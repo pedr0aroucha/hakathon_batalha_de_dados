{
 "cells": [
  {
   "cell_type": "code",
   "execution_count": 1,
   "metadata": {
    "id": "ERC92k4gPPlB"
   },
   "outputs": [],
   "source": [
    "import pandas as pd"
   ]
  },
  {
   "cell_type": "code",
   "execution_count": 2,
   "metadata": {
    "id": "K3wFZjPiJVXn"
   },
   "outputs": [],
   "source": [
    "EF = { 'LP': [['D001', 'D002', 'D003', 'D004', 'D005', 'D006', 'D007'],\n",
    "              ['D009', 'D010', 'D011'],\n",
    "              ['D012', 'D013'],\n",
    "              ['D014', 'D017'],\n",
    "              ['D019', 'D020', 'D021', 'D022'],\n",
    "              ['D023']],\n",
    "      'MT': [['D007', 'D008', 'D010', 'D011', 'D012', 'D013', 'D015', 'D017', 'D018', 'D019', 'D021', 'D024', 'D025', 'D026', 'D027'],\n",
    "              ['D048', 'D049', 'D050', 'D051', 'D052'],\n",
    "              ['D065', 'D067', 'D069'],\n",
    "              ['D075', 'D077']]\n",
    "    }\n",
    "\n",
    "EM = { 'LP': [['D001', 'D002', 'D003', 'D004', 'D005', 'D006', 'D007'],\n",
    "              ['D009', 'D010', 'D011'],\n",
    "              ['D012', 'D013'],\n",
    "              ['D014', 'D015', 'D016', 'D017', 'D018'],\n",
    "              ['D019', 'D020', 'D021', 'D022'],\n",
    "              ['D023']],\n",
    "      'MT': [['D016', 'D019', 'D020', 'D024', 'D028', 'D040', 'D042'],\n",
    "             ['D049', 'D050', 'D051', 'D052', 'D053', 'D054', 'D055', 'D056', 'D057', 'D058'],\n",
    "             ['D064', 'D065', 'D067', 'D071', 'D072'],\n",
    "             ['D076', 'D078']]\n",
    "     }"
   ]
  },
  {
   "cell_type": "code",
   "execution_count": 3,
   "metadata": {},
   "outputs": [],
   "source": [
    "def cols_upper(tb):\n",
    "    for i in tb.columns:\n",
    "        tb.rename(columns={i: i.upper()}, inplace = True)\n",
    "    return tb"
   ]
  },
  {
   "cell_type": "code",
   "execution_count": 4,
   "metadata": {
    "id": "ESYaJAXyo7Lk"
   },
   "outputs": [],
   "source": [
    "# materias = LP ou MT\n",
    "def cria_data_frame_tratado(path, nome, materia):\n",
    "\n",
    "    data = pd.read_csv(path, sep = ';', na_values='               ')\n",
    "    data = cols_upper(data)\n",
    "    data.filter(regex = '_ACERTO$', axis=1)\n",
    "    \n",
    "    data[data.filter(regex = '_TOTAL$', axis = 1).columns.to_list()] = data.filter(regex = '_TOTAL$', axis = 1).fillna(value = 0, axis = 1)\n",
    "    data[data.filter(regex = '_ACERTO$', axis = 1).columns.to_list()] = data.filter(regex = '_ACERTO$', axis = 1).fillna(value = 0, axis = 1)\n",
    "\n",
    "    lista_desc_agrupadas = EM[materia]\n",
    "\n",
    "    for num, grupo in enumerate(lista_desc_agrupadas):\n",
    "        data[f'DESC_{num + 1}_{materia}_ACERTO'] = 0\n",
    "        data[f'DESC_{num + 1}_{materia}_TOTAL'] = 0\n",
    "\n",
    "        for cat in grupo:\n",
    "            data[f'DESC_{num + 1}_{materia}_ACERTO'] += data[f'{cat}_ACERTO']\n",
    "            data[f'DESC_{num + 1}_{materia}_TOTAL'] += data[f'{cat}_TOTAL'].max()\n",
    "    \n",
    "    data.to_csv(nome, index = False)"
   ]
  },
  {
   "cell_type": "code",
   "execution_count": 5,
   "metadata": {},
   "outputs": [
    {
     "name": "stderr",
     "output_type": "stream",
     "text": [
      "C:\\Users\\pedro\\anaconda3\\lib\\site-packages\\IPython\\core\\interactiveshell.py:3263: DtypeWarning: Columns (40,56) have mixed types.Specify dtype option on import or set low_memory=False.\n",
      "  if (await self.run_code(code, result,  async_=asy)):\n"
     ]
    }
   ],
   "source": [
    "cria_data_frame_tratado('dados/tb_spaece_2018_mt_em.csv', 'dados tratados/transf_2018_mt_em.csv', 'MT')"
   ]
  },
  {
   "cell_type": "code",
   "execution_count": 6,
   "metadata": {},
   "outputs": [],
   "source": [
    "cria_data_frame_tratado('dados/tb_spaece_2018_lp_em.csv', 'dados tratados/transf_2018_lp_em.csv', 'LP')"
   ]
  }
 ],
 "metadata": {
  "colab": {
   "collapsed_sections": [],
   "name": "Transformacao_descritores.ipynb",
   "provenance": []
  },
  "kernelspec": {
   "display_name": "Python 3",
   "language": "python",
   "name": "python3"
  },
  "language_info": {
   "codemirror_mode": {
    "name": "ipython",
    "version": 3
   },
   "file_extension": ".py",
   "mimetype": "text/x-python",
   "name": "python",
   "nbconvert_exporter": "python",
   "pygments_lexer": "ipython3",
   "version": "3.8.3"
  }
 },
 "nbformat": 4,
 "nbformat_minor": 1
}
